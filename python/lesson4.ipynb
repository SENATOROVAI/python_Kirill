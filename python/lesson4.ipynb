{
  "nbformat": 4,
  "nbformat_minor": 0,
  "metadata": {
    "colab": {
      "provenance": []
    },
    "kernelspec": {
      "name": "python3",
      "display_name": "Python 3"
    },
    "language_info": {
      "name": "python"
    }
  },
  "cells": [
    {
      "cell_type": "code",
      "execution_count": 12,
      "metadata": {
        "colab": {
          "base_uri": "https://localhost:8080/"
        },
        "id": "50V7hFxY5O-z",
        "outputId": "e4fefda4-c003-42ab-b4af-f9d48af207fc"
      },
      "outputs": [
        {
          "output_type": "stream",
          "name": "stdout",
          "text": [
            "1\n"
          ]
        }
      ],
      "source": [
        "\n",
        "x = iter(list(range(1,10)))\n",
        "#итератор\n",
        "print(x.__next__())\n",
        "#метод для перехода к следующему значению"
      ]
    },
    {
      "cell_type": "code",
      "source": [
        "a = 1\n",
        "#оператор +\n",
        "print(a.__add__(1))"
      ],
      "metadata": {
        "colab": {
          "base_uri": "https://localhost:8080/"
        },
        "id": "yQAeiU2d7WU4",
        "outputId": "defb1278-2573-4c06-c7d7-0e8f7a07d62f"
      },
      "execution_count": 15,
      "outputs": [
        {
          "output_type": "stream",
          "name": "stdout",
          "text": [
            "2\n"
          ]
        }
      ]
    },
    {
      "cell_type": "code",
      "source": [
        "list_number = [1,2]\n",
        "b = list_number\n",
        "#Garbage Collection\n",
        "del list_number\n",
        "print(b)"
      ],
      "metadata": {
        "colab": {
          "base_uri": "https://localhost:8080/"
        },
        "id": "zZ9-MdJ-7qyf",
        "outputId": "45ea1463-37b5-416a-bc63-abe37167edce"
      },
      "execution_count": 18,
      "outputs": [
        {
          "output_type": "stream",
          "name": "stdout",
          "text": [
            "[1, 2]\n"
          ]
        }
      ]
    },
    {
      "cell_type": "code",
      "source": [
        "print(sum(n for n in range(1,10) if n % 3 == 0 or n % 5 == 0))"
      ],
      "metadata": {
        "colab": {
          "base_uri": "https://localhost:8080/"
        },
        "id": "JPYnrGnm9A7y",
        "outputId": "10c65ad6-6a9e-4ec2-8ff4-1e868ed8d460"
      },
      "execution_count": 20,
      "outputs": [
        {
          "output_type": "stream",
          "name": "stdout",
          "text": [
            "23\n"
          ]
        }
      ]
    },
    {
      "cell_type": "code",
      "source": [
        "*num, num1, num2 = list(range(1,10))\n",
        "print(num)"
      ],
      "metadata": {
        "colab": {
          "base_uri": "https://localhost:8080/"
        },
        "id": "50uoP5Xn9rjX",
        "outputId": "d9a1ae28-b4a9-44f9-d687-a334b3d0c2cd"
      },
      "execution_count": 40,
      "outputs": [
        {
          "output_type": "stream",
          "name": "stdout",
          "text": [
            "[1, 2, 3, 4, 5, 6, 7]\n"
          ]
        }
      ]
    },
    {
      "cell_type": "code",
      "source": [
        "#Дубликат объекта\n",
        "print(num[:])\n"
      ],
      "metadata": {
        "colab": {
          "base_uri": "https://localhost:8080/"
        },
        "id": "_RUMVfEf_cBd",
        "outputId": "1d1d3cac-7381-4665-c6d1-49bb2c4714a6"
      },
      "execution_count": 41,
      "outputs": [
        {
          "output_type": "stream",
          "name": "stdout",
          "text": [
            "[1, 2, 3, 4, 5, 6, 7]\n"
          ]
        }
      ]
    },
    {
      "cell_type": "code",
      "source": [
        "s = "
      ],
      "metadata": {
        "colab": {
          "base_uri": "https://localhost:8080/"
        },
        "id": "poYpATu0Boa5",
        "outputId": "118815ab-a7fa-4859-ecb4-5a174f8a267a"
      },
      "execution_count": 43,
      "outputs": [
        {
          "output_type": "stream",
          "name": "stdout",
          "text": [
            "d\n"
          ]
        }
      ]
    }
  ]
}